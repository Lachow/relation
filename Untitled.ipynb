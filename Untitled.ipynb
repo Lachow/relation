{
 "cells": [
  {
   "cell_type": "markdown",
   "metadata": {},
   "source": [
    "### Relation of Visual Function to Retinal Nerve Fiber Layer Thickness in Multiple Sclerosis\n",
    "***\n"
   ]
  },
  {
   "cell_type": "markdown",
   "metadata": {},
   "source": [
    "<img src=\"img/elsevier-non-solus.png\" alt=\"logo\" style=\"width: 50px; float:right;\"/>"
   ]
  },
  {
   "cell_type": "markdown",
   "metadata": {},
   "source": [
    "<b>Цел на истражувањето</b>: Да се испита врската на визуелната функција со дебелината на слојот на нервните влакна на мрежницата (RNFL) како структурен биомаркер за аксонална загуба кај мултиплекс склероза (МС) и да се спореди дебелината на RNFL меѓу <font color='#00C483'> очите на МС со историја на акутен оптички невритис</font>, <font color='#09C7AE'>MS без историја на оптички невритис</font>, и <font color='#10C9F5'>контролни очи без болести</font>."
   ]
  },
  {
   "cell_type": "markdown",
   "metadata": {},
   "source": [
    "<b>Participants</b>: Patients with MS (n = 90; 180 eyes) and disease-free controls (n = 36; 72 eyes)."
   ]
  },
  {
   "cell_type": "markdown",
   "metadata": {},
   "source": [
    "<b>Methods</b>: Retinal never fiber layer thickness was measured using <font color='#10C9F5'>optical coherence tomography</font> (OCT; fast\n",
    "RNFL thickness software protocol). Vision testing was performed for each eye and binocularly before OCT\n",
    "scanning using measures previously shown to capture dysfunction in MS patients: (1) low-contrast letter acuity\n",
    "(Sloan charts, 2.5% and 1.25% contrast levels at 2 m) and (2) contrast sensitivity (Pelli–Robson chart at 1 m).\n",
    "Visual acuity (retroilluminated Early Treatment Diabetic Retinopathy charts at 3.2 m) was also measured, and\n",
    "protocol refractions were performed."
   ]
  },
  {
   "cell_type": "markdown",
   "metadata": {},
   "source": [
    "<b>Main Outcome Measures:</b> Retinal nerve fiber layer thickness measured by OCT, and visual function test\n",
    "results."
   ]
  },
  {
   "cell_type": "markdown",
   "metadata": {},
   "source": [
    "<b>Results</b>: Although median Snellen acuity equivalents were better than 20/20 in both groups, RNFL thickness\n",
    "was reduced significantly among eyes of MS patients (92 m) versus controls (105 \\mu m) (P0.001) and\n",
    "particularly was reduced in MS ON eyes (85 \\mu m; P0.001; accounting for age and adjusting for within-patient\n",
    "intereye correlations). Lower visual function scores were associated with reduced average overall RNFL thickness in MS eyes; for every 1-line decrease in low-contrast letter acuity or contrast sensitivity score, the mean\n",
    "RNFL thickness decreased by 4 \\mu m.'τ'"
   ]
  },
  {
   "cell_type": "markdown",
   "metadata": {},
   "source": [
    "<b>Conclusions</b>: Scores for low-contrast letter acuity and contrast sensitivity correlate well with RNFL thickness as a structural biomarker, supporting validity for these visual function tests as secondary clinical outcome\n",
    "measures for MS trials. These results also suggest a role for ocular imaging techniques such as OCT in trials that\n",
    "examine neuroprotective and other disease-modifying therapies. Although eyes with a history of acute optic\n",
    "neuritis demonstrate the greatest reductions in RNFL thickness, MS non-ON eyes have less RNFL thickness than\n",
    "controls, suggesting the occurrence of chronic axonal loss separate from acute attacks in MS patients"
   ]
  },
  {
   "cell_type": "markdown",
   "metadata": {},
   "source": [
    "<img src=\"img/blue.jpg\" alt=\"logo\" style=\"width: 600px;\"/>"
   ]
  },
  {
   "cell_type": "markdown",
   "metadata": {},
   "source": [
    "### Materials and Methods"
   ]
  },
  {
   "cell_type": "markdown",
   "metadata": {},
   "source": [
    "- <u><b><font color =#00C483>Subjects</font></u></b> <br>\n",
    "Patients and disease-free control subjects in the MS Vision Prospective Cohort Study,15 an ongoing investigation of visual outcome measures, were invited to participate. Multiple sclerosis was\n",
    "diagnosed by standard clinical and neuroimaging criteria.42 Disease duration, disease-specific therapies (e.g., immunomodulatory\n",
    "agents) and their duration, and MS disease phenotype (relapsing–\n",
    "remitting, secondary progressive, primary progressive) were ascertained for each MS patient. Patients with comorbid ocular conditions not related to MS (ascertained by a detailed history and\n",
    "examination) were excluded. A history of 1 episodes of acute\n",
    "optic neuritis was determined for eyes of MS patients by selfreport and physician report and confirmed by medical record\n",
    "review. Patients experiencing an acute attack of optic neuritis and\n",
    "those whose most recent attack had occurred less than 1 month\n",
    "prior were not included in these analyses. Optic disc swelling was\n",
    "not noted among any study participants.\n",
    "Disease-free control participants were recruited from among\n",
    "staff and family members of patients and had no history of ocular\n",
    "or neurologic disease. Patients and controls with refractive error in\n",
    "the absence of other ocular comorbidities were invited to participate to best capture the ocular status of patients who may participate in MS trials. Although no absolute criteria for refractive error\n",
    "were used for participation, one patient with MS was excluded on\n",
    "the basis of severe congenital myopia (15.00 spherical equivalent [SE]). Multiple sclerosis patients were excluded if Snellen\n",
    "visual acuity (VA) equivalents were worse than 20/200 in both\n",
    "eyes, because this would preclude testing of low-contrast letter\n",
    "acuity; control eyes were required to have acuities of 20/20 or\n",
    "better. Institutional review board approval was obtained. All participants provided written informed consent, and the study was\n",
    "conducted in accord with regulations of the Health Insurance\n",
    "Portability and Accountability Act."
   ]
  },
  {
   "cell_type": "markdown",
   "metadata": {},
   "source": [
    "- <u><b><font color =#00C483>Visual Function Testing</font></u></b> <br>\n",
    "Participants underwent testing using the following: (1) lowcontrast letter acuity (low-contrast Sloan letter charts, which involve identification of gray letters of progressively smaller size on\n",
    "a white/retroilluminated background at 2 m; 1.25% and 2.5%\n",
    "contrast levels; Precision Vision, LaSalle, IL),15,16,43 (2) contrast\n",
    "sensitivity (Pelli–Robson charts, which capture the minimum contrast level at which patients can perceive letters of a single large\n",
    "size at 1 m; Lombart Instrument Co., Norfolk, VA),20,44 and (3)\n",
    "high-contrast VA (Early Treatment Diabetic Retinopathy Study\n",
    "[ETDRS] charts at 3.2 m; Lighthouse Low-Vision Products, Long\n",
    "Island City, NY). Sloan charts have a standardized format based on\n",
    "that of the ETDRS VA charts (5 letters per line).45,46 Each Sloan\n",
    "chart corresponds to a different contrast level, and charts are\n",
    "scored based on the number of letters identified correctly. This\n",
    "format may allow Sloan charts to capture losses of contrast at\n",
    "small letter sizes that have been reported in MS and other neurologic disorders.47\n",
    "Pelli–Robson contrast sensitivity charts consist of 16 groups of\n",
    "3 uppercase letters (triplets, or lines). Letters on this chart are of a\n",
    "single large size (\u000420/680 Snellen equivalent).44 Unlike the Sloan\n",
    "charts, which measure threshold acuity at different levels of contrast, the Pelli–Robson chart provides a measure of contrast sensitivity at a single letter size. All testing was performed for each\n",
    "eye separately as well as binocularly; binocular testing was included to provide a summary measure of overall visual functioning\n",
    "with both eyes open.25\n",
    "Monocular and binocular summary scores for visual function\n",
    "tests were calculated as follows: (1) Sloan charts and ETDRS VA,\n",
    "number of letters identified correctly (maximum, 70) and number\n",
    "of lines correct (letters correct/5), and (2) Pelli–Robson charts, log\n",
    "contrast sensitivity (maximum log score, 2.25 [48 letters]) and\n",
    "number of lines correct (letters correct/3). Snellen equivalents\n",
    "were also recorded for ETDRS VA measurements.\n",
    "Before vision testing, participants underwent detailed refractions to minimize potential bias between patients and controls with\n",
    "respect to correction of refractive error. Refractions were performed for each eye at 3.2 m (ETDRS chart R) and adjusted for the\n",
    "different distances used for other vision tests. Testing was performed by trained technicians experienced in examination of patients for research studies. Although it was not feasible for the\n",
    "examining technicians to be masked to MS versus control group\n",
    "status, strict standardized protocols, including written scripts and\n",
    "instructions for testing, were followed."
   ]
  },
  {
   "cell_type": "markdown",
   "metadata": {},
   "source": [
    "- <u><b><font color =#00C483>Optical Coherence Tomography</font></u></b> <br>\n",
    "Optical coherence tomography was performed for both eyes of\n",
    "each participant using OCT-3 with OCT 4.0 software (Carl Zeiss\n",
    "Meditec). Using low-coherence interferometry, OCT generates\n",
    "cross-sectional tomograms of the retina with an axial resolution of\n",
    "10 m.29 The fast RNFL thickness scan protocol was used\n",
    "(computes the average of 3 circumferential scans 360° around the\n",
    "optic disc, 256 axial scans, 3.4-m diameter). Optical coherence\n",
    "tomography scanning was performed by trained technicians after\n",
    "visual function testing. Scans were performed without flash photography to optimize patient comfort. If the participant’s pupils\n",
    "were large enough to permit adequate OCT imaging (5-mm diameter), scanning was completed without the use of mydriatic eyedrops. Dilation has been shown to have little impact on OCT\n",
    "values and reproducibility, and may not be consistently feasible in\n",
    "the MS clinical trial setting.41 Pupils were dilated with 1% tropicamide if adequate scans could not otherwise be obtained. Good\n",
    "scans were defined according to specifications in the OCT-3 users’\n",
    "manual: signal strength of 7 (maximum, 10) and uniform bright ness across the scan circumference. In this cohort, all scans met\n",
    "this requirement, and the median signal strength was 10 (range,\n",
    "7–10). Internal fixation was used for all OCT scans, and a patch\n",
    "was placed over the nontested eye to improve fixation.\n",
    "Average overall RNFL thickness (averaged for peripapillary\n",
    "retina 360° around the optic disc) and thickness values for each of\n",
    "4 quadrants (temporal, superior, nasal, inferior) were recorded\n",
    "from the OCT printouts for MS and disease-free control eyes."
   ]
  },
  {
   "cell_type": "markdown",
   "metadata": {},
   "source": [
    "- <u><b><font color =#00C483>Neurological Assessment</font></u></b> <br>\n",
    "The Expanded Disability Status Scale (EDSS) and MSFC, measures used in MS clinical trials, were performed for MS patients to\n",
    "characterize degrees of neurological impairment.12,48 The MSFC\n",
    "includes quantitative tests of leg function/ambulation (Timed 25-\n",
    "Foot Walk [T25FW]), arm function (9-Hole Peg Test [9HPT]), and\n",
    "cognition (Paced Auditory Serial Addition Test with a 3-second\n",
    "interstimulus interval [PASAT3]). The MSFC component and composite Z scores represent the number of SDs from a disease-free\n",
    "control group mean score.15 Composite Z scores are calculated as\n",
    "follows: "
   ]
  },
  {
   "cell_type": "markdown",
   "metadata": {},
   "source": [
    "$$ MSFC Z score = \\frac{ZT25FW+Z9HPT+ZPASAT3}{3.0}$$\n",
    "&emsp;&emsp;"
   ]
  },
  {
   "cell_type": "markdown",
   "metadata": {},
   "source": [
    "- <u><b><font color =#00C483>Statistical Methods</font></u></b> <br>\n",
    "All data analyses were performed using Stata statistical software\n",
    "(version 8.0, StataCorp, College Station, TX). Generalized estimating equation (GEE) models were used for primary analyses\n",
    "that examined the relation of visual function to RNFL thickness.\n",
    "Generalized estimating equation models are generalized linear\n",
    "models that allow for specification of within-group correlations\n",
    "when examining the capacity of one or several independent variables to predict a dependent variable. In this investigation, GEE\n",
    "models were used to determine how well visual function scores\n",
    "predicted average overall RNFL thickness, accounting simultaneously for age. Because both eyes of each MS patient and control\n",
    "were included in this study, and eyes of the same patient would be\n",
    "expected to have some degree of intercorrelation with respect to\n",
    "visual function and RNFL thickness, GEE models allowed us to\n",
    "adjust for these within-patient intereye correlations.\n",
    "Generalized estimating equation models were also used to\n",
    "compare patient (MS eyes, MS ON eyes, MS non-ON eyes) and\n",
    "disease-free control groups with respect to RNFL thickness values\n",
    "(average overall and 4 quadrants) and to examine the relation of\n",
    "neurologic status to RNFL thickness. Indicator variables and interaction terms were used in models that examined patterns of\n",
    "RNFL thickness across retinal quadrants in MS versus control eyes\n",
    "as well as in MS ON and MS non-ON eyes. A type I error level of\n",
    "\u0004 \u0001 0.05 was used for statistical significance."
   ]
  },
  {
   "cell_type": "markdown",
   "metadata": {},
   "source": [
    "### Results"
   ]
  },
  {
   "cell_type": "markdown",
   "metadata": {},
   "source": [
    "Ninety patients with MS (180 eyes) and 36 disease-free controls\n",
    "(72 eyes) underwent vision testing and OCT imaging. Demographic and clinical characteristics are presented in Table 1. Because patients and disease-free controls in this convenience sample\n",
    "differed with respect to age, statistical models used for analyses\n",
    "included age as a covariate. Multiple sclerosis patients in our\n",
    "cohort were similar to the United States MS population with regard\n",
    "to age, gender, and race (88% Caucasian). Eighty percent of MS\n",
    "patients (72/90) were using standard disease-modifying therapies\n",
    "(median duration of current therapy, 3 years [range, 1–11]).\n",
    "Degree of refractive error (SE), as measured by protocol refractions, did not differ significantly between MS and control group\n",
    "eyes (P \u0001 0.71, GEE models accounting for within-patient intereye correlations)."
   ]
  },
  {
   "cell_type": "markdown",
   "metadata": {},
   "source": [
    "|| MS Patients(n = 90, 180 Eyes) | Disease-Free Controls(n = 36, 72 Eyes) |\n",
    "| :- | -: | :-: |\n",
    "| Age (yrs)* (mean +- standard deviation) | 48+-8 | 38+-10|\n",
    "| Gender [n (% female)] | 72(80)| 28(78)|\n",
    "| MS disease phenotype† [n (% relapsing remitting)] | 8<(1–46)| /|\n",
    "| EDSS score‡ [median (range)]| 76(84)| /|\n",
    "| MSFC Z score [mean +- standard deviation | 2 (0–7)| /|\n",
    "|Refractive error (spherical equivalent, by eyes) [median (range)]  | -2.49+-3.9 | 20/16 (20/12.5–20/20)|\n",
    "| Visual acuity (Snellen equivalent, by eyes) [median (range)] | 0.75 (8.00 to +-3.75) |Mean, 20/15|\n",
    "| Average overall retinal nerve fiber layer thickness (nm, by eyes) [median (range)] |  93 (36–129) | 107 (85–131)|"
   ]
  }
 ],
 "metadata": {
  "kernelspec": {
   "display_name": "Python 3",
   "language": "python",
   "name": "python3"
  },
  "language_info": {
   "codemirror_mode": {
    "name": "ipython",
    "version": 3
   },
   "file_extension": ".py",
   "mimetype": "text/x-python",
   "name": "python",
   "nbconvert_exporter": "python",
   "pygments_lexer": "ipython3",
   "version": "3.6.12"
  }
 },
 "nbformat": 4,
 "nbformat_minor": 4
}
